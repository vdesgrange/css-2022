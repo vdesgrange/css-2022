{
 "cells": [
  {
   "cell_type": "code",
   "execution_count": 1,
   "metadata": {},
   "outputs": [],
   "source": [
    "d = {2.302585092994046: 14.139331677031926, 4.605170185988092: 21.70184955813765, 6.907755278982137: 35.28844703285459}\n",
    "d2 = {10: 42, 100: 108, 1000: 397}\n",
    "\n",
    "index_list = [10, 100, 1000]\n",
    "freq_list = [42, 108, 397]"
   ]
  },
  {
   "cell_type": "code",
   "execution_count": 10,
   "metadata": {},
   "outputs": [],
   "source": [
    "import numpy as np\n",
    "import matplotlib.pyplot as plt\n",
    "from scipy.optimize import curve_fit\n",
    "\n",
    "def power_law(x, a, b):\n",
    "    return a * np.power(x, -b)"
   ]
  },
  {
   "cell_type": "code",
   "execution_count": 12,
   "metadata": {},
   "outputs": [
    {
     "data": {
      "image/png": "[encoded data removed]",
      "text/plain": [
       "<Figure size 432x288 with 1 Axes>"
      ]
     },
     "metadata": {
      "needs_background": "light"
     },
     "output_type": "display_data"
    }
   ],
   "source": [
    "\n",
    "plt.loglog(index_list, freq_list, label='given data')\n",
    "\n",
    "popt, pcov = curve_fit(power_law, index_list, freq_list)\n",
    "\n",
    "plt.plot(index_list, power_law(index_list, *popt), label='power law')\n",
    "plt.legend()\n",
    "plt.show()"
   ]
  },
  {
   "cell_type": "code",
   "execution_count": 13,
   "metadata": {},
   "outputs": [
    {
     "data": {
      "text/plain": [
       "array([[5.68176105e+00, 9.01122477e-02],\n",
       "       [9.01122477e-02, 1.44472807e-03]])"
      ]
     },
     "execution_count": 13,
     "metadata": {},
     "output_type": "execute_result"
    }
   ],
   "source": [
    "pcov"
   ]
  },
  {
   "cell_type": "code",
   "execution_count": null,
   "metadata": {},
   "outputs": [],
   "source": [
    "import matplotlib.pylab as plt\n",
    "\n",
    "\n",
    "myList = d.items()\n",
    "myList = sorted(myList) \n",
    "x, y = zip(*myList) \n",
    "\n",
    "plt.plot(x, y)\n",
    "plt.show()"
   ]
  },
  {
   "cell_type": "code",
   "execution_count": null,
   "metadata": {},
   "outputs": [],
   "source": [
    "import matplotlib.pylab as plt\n",
    "\n",
    "\n",
    "myList = d2.items()\n",
    "myList = sorted(myList) \n",
    "x, y = zip(*myList) \n",
    "\n",
    "plt.plot(x, y)\n",
    "plt.xscale(\"log\")\n",
    "plt.yscale(\"log\")\n",
    "plt.show()"
   ]
  },
  {
   "cell_type": "code",
   "execution_count": null,
   "metadata": {},
   "outputs": [],
   "source": [
    "# nr of nodes against percentage of infected or online nodes\n",
    "\n",
    "d3 = {10: 0.5, 100: 0.178, 1000: 0.0621}\n",
    "d4 = {10: 0.2740000000000002, 100: 0.09750000000000002, 1000: 0.03036000000000001}"
   ]
  },
  {
   "cell_type": "code",
   "execution_count": null,
   "metadata": {},
   "outputs": [],
   "source": [
    "myList = d4.items()\n",
    "myList = sorted(myList) \n",
    "x, y = zip(*myList) \n",
    "\n",
    "plt.plot(x, y)\n",
    "plt.show()"
   ]
  },
  {
   "cell_type": "code",
   "execution_count": null,
   "metadata": {},
   "outputs": [],
   "source": [
    "myList = d4.items()\n",
    "myList = sorted(myList) \n",
    "x, y = zip(*myList) \n",
    "\n",
    "plt.plot(x, y)\n",
    "plt.xscale(\"log\")\n",
    "plt.yscale(\"log\")\n",
    "plt.show()"
   ]
  },
  {
   "cell_type": "code",
   "execution_count": null,
   "metadata": {},
   "outputs": [],
   "source": [
    "d5 = {10: 0.19, 50: 0.07600000000000001, 100: 0.039, 500: 0.0282, 1000: 0.023}"
   ]
  },
  {
   "cell_type": "code",
   "execution_count": null,
   "metadata": {},
   "outputs": [],
   "source": [
    "myList = d5.items()\n",
    "myList = sorted(myList) \n",
    "x, y = zip(*myList) \n",
    "\n",
    "plt.plot(x, y)\n",
    "plt.xscale(\"log\")\n",
    "plt.yscale(\"log\")\n",
    "plt.show()"
   ]
  },
  {
   "cell_type": "code",
   "execution_count": null,
   "metadata": {},
   "outputs": [],
   "source": [
    "myList = d5.items()\n",
    "myList = sorted(myList) \n",
    "x, y = zip(*myList) \n",
    "\n",
    "plt.plot(x, y)\n",
    "# plt.xscale(\"log\")\n",
    "# plt.yscale(\"log\")\n",
    "plt.show()"
   ]
  },
  {
   "cell_type": "markdown",
   "metadata": {},
   "source": [
    "Erdos renyi"
   ]
  },
  {
   "cell_type": "code",
   "execution_count": null,
   "metadata": {},
   "outputs": [],
   "source": [
    "import matplotlib.pylab as plt\n",
    "d6 = {10: 0.3, 100: 0.038000000000000006, 1000: 0.0050999999999999995}\n",
    "# 5 ts, 20 sim, erdos renyi\n",
    "d7 = {10: 0.2850000000000001, 100: 0.03750000000000001, 1000: 0.0042}\n",
    "# 10 ts, 20 sim, er\n",
    "d8 = {10: 0.12499999999999999, 100: 0.024999999999999994, 1000: 0.003}\n",
    "# 20 ts, 20 sim, er\n",
    "d9 = {10: 0.02, 100: 0.0075000000000000015, 1000: 0.0013499999999999999}\n",
    "# 30 ts, 20 sim, er\n",
    "d10 = {10: 0.06499999999999999, 100: 0.006500000000000001, 1000: 0.00145}"
   ]
  },
  {
   "cell_type": "code",
   "execution_count": null,
   "metadata": {},
   "outputs": [],
   "source": [
    "myList = d6.items()\n",
    "myList = sorted(myList) \n",
    "x, y = zip(*myList) \n",
    "\n",
    "plt.plot(x, y)\n",
    "plt.xscale(\"log\")\n",
    "plt.yscale(\"log\")\n",
    "plt.show()"
   ]
  },
  {
   "cell_type": "code",
   "execution_count": null,
   "metadata": {},
   "outputs": [],
   "source": [
    "myList = d7.items()\n",
    "myList = sorted(myList) \n",
    "x, y = zip(*myList) \n",
    "\n",
    "plt.plot(x, y)\n",
    "plt.xscale(\"log\")\n",
    "plt.yscale(\"log\")\n",
    "plt.show()"
   ]
  },
  {
   "cell_type": "code",
   "execution_count": null,
   "metadata": {},
   "outputs": [],
   "source": [
    "myList = d8.items()\n",
    "myList = sorted(myList) \n",
    "x, y = zip(*myList) \n",
    "\n",
    "plt.plot(x, y)\n",
    "plt.xscale(\"log\")\n",
    "plt.yscale(\"log\")\n",
    "plt.show()"
   ]
  },
  {
   "cell_type": "code",
   "execution_count": null,
   "metadata": {},
   "outputs": [],
   "source": [
    "myList = d9.items()\n",
    "myList = sorted(myList) \n",
    "x, y = zip(*myList) \n",
    "\n",
    "plt.plot(x, y)\n",
    "plt.xscale(\"log\")\n",
    "plt.yscale(\"log\")\n",
    "plt.show()"
   ]
  },
  {
   "cell_type": "code",
   "execution_count": null,
   "metadata": {},
   "outputs": [],
   "source": [
    "myList = d10.items()\n",
    "myList = sorted(myList) \n",
    "x, y = zip(*myList) \n",
    "\n",
    "plt.plot(x, y)\n",
    "plt.xscale(\"log\")\n",
    "plt.yscale(\"log\")\n",
    "plt.show()"
   ]
  }
 ],
 "metadata": {
  "interpreter": {
   "hash": "916dbcbb3f70747c44a77c7bcd40155683ae19c65e1c03b4aa3499c5328201f1"
  },
  "kernelspec": {
   "display_name": "Python 3.8.10 64-bit",
   "language": "python",
   "name": "python3"
  },
  "language_info": {
   "codemirror_mode": {
    "name": "ipython",
    "version": 3
   },
   "file_extension": ".py",
   "mimetype": "text/x-python",
   "name": "python",
   "nbconvert_exporter": "python",
   "pygments_lexer": "ipython3",
   "version": "3.8.10"
  },
  "orig_nbformat": 4
 },
 "nbformat": 4,
 "nbformat_minor": 2
}
