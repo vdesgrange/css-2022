{
 "cells": [
  {
   "cell_type": "markdown",
   "id": "0ff7ab73",
   "metadata": {},
   "source": [
    "This is code to accomodate the cellular automata section of the paper (section 3)\n",
    "\n",
    "We will use the libraries listed below\n"
   ]
  },
  {
   "cell_type": "code",
   "execution_count": 1,
   "id": "511f7415",
   "metadata": {},
   "outputs": [],
   "source": [
    "import numpy as np\n",
    "import random\n",
    "import matplotlib.pyplot as plt"
   ]
  },
  {
   "cell_type": "code",
   "execution_count": 2,
   "id": "aee37be4",
   "metadata": {},
   "outputs": [],
   "source": [
    "# this is a function to get an n by n numpy matrix\n",
    "# input: n = natural number\n",
    "# output: a numpy matrix of size n by n and all entries 0\n",
    "\n",
    "def get_matrix(n):\n",
    "    A=np.zeros((n,n))\n",
    "    half=int((n-1)/2 +1)\n",
    "    A[half-1,half-1]=1\n",
    "    return A"
   ]
  },
  {
   "cell_type": "code",
   "execution_count": 3,
   "id": "315ae61b",
   "metadata": {},
   "outputs": [],
   "source": [
    "# This is code to run 1 cellular automata game \n",
    "# input: A = numpy square matrix with all entries zero, \n",
    "# rules = list of list of lists of transition rules from state to state, \n",
    "# eg. [[[0.3,1],[0.4,2]],[[0.5,0]]] means 0 goes to 1 with p =0.3 and to 2 with p =0.4 and state 1 goes to 0 with p= 0.5 (any leftover probability is assumed to remain in place)\n",
    "# max_time: if the game exceeds this time and you haven't lost, you win!\n",
    "# output: a timeline of states, win variable (0 = lose, 1 = win), and how long the run was, this is an array of np matrices \n",
    "\n",
    "def run_cellular_automaton(A,rules,max_time=700):\n",
    "    n=len(A)\n",
    "    k=0\n",
    "    timeline=[]\n",
    "    counter=0\n",
    "    while k<1:\n",
    "        counter+=1\n",
    "        A_new=A.copy()\n",
    "        for i in range(n-1):\n",
    "            for j in range(n-1):\n",
    "                temp=int(A[i,j])\n",
    "                if temp==0:\n",
    "                    if A[i+1,j]==1 or A[i-1,j]==1 or A[i,j+1]==1 or A[i,j-1]==1:\n",
    "                        p=[]\n",
    "                        move=[]\n",
    "                        count=0\n",
    "                        for w in rules[temp]:\n",
    "                            p.append(w[0])\n",
    "                            move.append(w[1])\n",
    "                            count+=w[0]\n",
    "                        p.append(1-count)\n",
    "                        move.append(temp)\n",
    "                        A_new[i,j]=random.choices(move,p)[0]\n",
    "                else:\n",
    "                    p=[]\n",
    "                    move=[]\n",
    "                    count=0\n",
    "                    \n",
    "                    for w in rules[temp]:\n",
    "                        p.append(w[0])\n",
    "                        move.append(w[1])\n",
    "                        count+=w[0]\n",
    "                    p.append(1-count)\n",
    "                    move.append(temp)\n",
    "                    A_new[i,j]=random.choices(move,p)[0]\n",
    "        timeline.append(A.copy())\n",
    "        A=A_new.copy()\n",
    "        A_new=A_new.tolist()\n",
    "        if counter==max_time:\n",
    "            k=1\n",
    "            win=1\n",
    "        if 1 in A[0] or 1 in A[-1] or 1 in A[:,0] or 1 in A[:,-1]:\n",
    "                k=1\n",
    "                win=0\n",
    "    timeline.append(A.copy())\n",
    "    return(timeline,win,len(timeline))"
   ]
  },
  {
   "cell_type": "code",
   "execution_count": 14,
   "id": "de602f4b",
   "metadata": {},
   "outputs": [],
   "source": [
    "# this is code to visualize a time step\n",
    "# input: a timeline (from run_cellular_automata()), and a time step of interest\n",
    "# output: a visualization of that time step with color codes: \n",
    "# white = Susceptible->Disconnected->Dead->Recovered->Infected =dark blue\n",
    "\n",
    "\n",
    "def print_timestep(timeline,time):\n",
    "    n=len(timeline[0][time])\n",
    "    A=timeline[time]\n",
    "    for i in range(len(A)):\n",
    "        for j in range(len(A)):\n",
    "            if A[i,j]==1:\n",
    "                A[i,j]=10\n",
    "            if A[i,j]==2:\n",
    "                A[i,j]=7\n",
    "            if A[i,j]==3:\n",
    "                A[i,j]=5\n",
    "            if A[i,j]==4:\n",
    "                A[i,j]=3\n",
    "    fig, ax = plt.subplots()\n",
    "    ax.matshow(A, cmap=plt.cm.Blues)\n",
    "    for i in range(n):\n",
    "        for j in range(n):\n",
    "            c = A[j,i]\n",
    "            ax.text(i, j,'', va='center', ha='center')"
   ]
  },
  {
   "cell_type": "code",
   "execution_count": 15,
   "id": "b586a581",
   "metadata": {},
   "outputs": [],
   "source": [
    "# this is a function to visualize the entire timeline\n",
    "# input: a timeline\n",
    "# output: a visualization of the full run\n",
    "\n",
    "def timesteps(timeline,time):\n",
    "    for i in range(time):\n",
    "        print_timestep(timeline,i)\n",
    "        "
   ]
  },
  {
   "cell_type": "code",
   "execution_count": 20,
   "id": "dc0bbebc",
   "metadata": {},
   "outputs": [
    {
     "name": "stdout",
     "output_type": "stream",
     "text": [
      "game result:\n",
      "you lost\n"
     ]
    },
    {
     "data": {
      "image/png": "[encoded data removed]",
      "text/plain": [
       "<Figure size 432x288 with 1 Axes>"
      ]
     },
     "metadata": {
      "needs_background": "light"
     },
     "output_type": "display_data"
    },
    {
     "data": {
      "image/png": "[encoded data removed]",
      "text/plain": [
       "<Figure size 432x288 with 1 Axes>"
      ]
     },
     "metadata": {
      "needs_background": "light"
     },
     "output_type": "display_data"
    },
    {
     "data": {
      "image/png": "[encoded data removed]",
      "text/plain": [
       "<Figure size 432x288 with 1 Axes>"
      ]
     },
     "metadata": {
      "needs_background": "light"
     },
     "output_type": "display_data"
    },
    {
     "data": {
      "image/png": "[encoded data removed]",
      "text/plain": [
       "<Figure size 432x288 with 1 Axes>"
      ]
     },
     "metadata": {
      "needs_background": "light"
     },
     "output_type": "display_data"
    }
   ],
   "source": [
    "#example: run the following code\n",
    "\n",
    "rules=[[[0.5,1],[0.5,4]],[[0.5,2],[0.5,3]],[[1,2]],[[1,3]],[[0.5,0]]]\n",
    "#0= susceptible, 1=infected, 2= recovered, 3= dead, 4= disconnected\n",
    "A=get_matrix(7)\n",
    "Timeline=run_cellular_automaton(A,rules)\n",
    "print(\"game result:\")\n",
    "if Timeline[1]==1:\n",
    "    print(\"you won\")\n",
    "else:\n",
    "    print(\"you lost\")\n",
    "timesteps(Timeline[0],Timeline[2])"
   ]
  },
  {
   "cell_type": "markdown",
   "id": "86ef30d1",
   "metadata": {},
   "source": [
    ">> In this coming section we discuss the experiments from the paper"
   ]
  },
  {
   "cell_type": "code",
   "execution_count": 21,
   "id": "5660da65",
   "metadata": {},
   "outputs": [],
   "source": [
    "# This is the experiment of section 3.3 where we keep the grid size set and we slowly increase the probability\n",
    "# inputs: n_intervals = # of times you want to increase the probability, end and start points are always 1 and 0,\n",
    "# so for example n_intervals = 20 => we increase the probability by 0.05 every time\n",
    "# A = the grid\n",
    "# rules = the transition rules as per run_cellular_automata()\n",
    "# iterations = # times you run the game at each of the n_intervals, then you overage this win percentage and you append in a list\n",
    "# output: a list of the average win percentages at each n_intervals\n",
    "\n",
    "\n",
    "\n",
    "\n",
    "\n",
    "def experiment1(n_intervals, A,rules, iterations=20):\n",
    "    win_percentage=[]\n",
    "    for i in range(n_intervals):\n",
    "        print(\"currently running\", i) #code takes very long to run on some inputs, this is to indicate the step\n",
    "        p=1/n_intervals*i\n",
    "        rules[0][0][0]=p\n",
    "        rules[0][1][0]=1-p\n",
    "        rules[1][0][0]=p\n",
    "        rules[1][1][0]=1-p\n",
    "        win_round=[]\n",
    "        for j in range(iterations):\n",
    "            Timeline=run_cellular_automaton(A,rules)\n",
    "            win_round.append(Timeline[1])\n",
    "        win_percentage.append(np.mean(win_round))\n",
    "    return win_percentage"
   ]
  },
  {
   "cell_type": "code",
   "execution_count": 23,
   "id": "1d8a904d",
   "metadata": {},
   "outputs": [
    {
     "name": "stdout",
     "output_type": "stream",
     "text": [
      "currently running 0\n",
      "currently running 1\n",
      "currently running 2\n",
      "currently running 3\n",
      "currently running 4\n",
      "currently running 5\n",
      "currently running 6\n"
     ]
    },
    {
     "data": {
      "text/plain": [
       "<function matplotlib.pyplot.show(close=None, block=None)>"
      ]
     },
     "execution_count": 23,
     "metadata": {},
     "output_type": "execute_result"
    },
    {
     "data": {
      "image/png": "[encoded data removed]",
      "text/plain": [
       "<Figure size 432x288 with 1 Axes>"
      ]
     },
     "metadata": {
      "needs_background": "light"
     },
     "output_type": "display_data"
    }
   ],
   "source": [
    "#example, run the following code:\n",
    "\n",
    "rules=[[[0.5,1],[0.5,4]],[[0.5,2],[0.5,3]],[[1,2]],[[1,3]],[[0.5,0]]]\n",
    "#0= susceptible, 1=infected, 2= recovered, 3= dead, 4= disconnected\n",
    "A=get_matrix(15)\n",
    "n_intervals=7\n",
    "win_percentage=experiment1(n_intervals,A,rules, iterations=10)\n",
    "\n",
    "x=np.linspace(0,1,n_intervals)\n",
    "plt.plot(x,win_percentage, label=\"average win percentage\")\n",
    "plt.xlabel('probability')\n",
    "plt.ylabel('win percentage')\n",
    "plt.title('Experiment results: Varying p')\n",
    "plt.legend()\n",
    "plt.show"
   ]
  },
  {
   "cell_type": "code",
   "execution_count": 24,
   "id": "96ef975b",
   "metadata": {},
   "outputs": [],
   "source": [
    "# This is the experiment of section 3.2 where we keep the rules set and we slowly increase the grid size\n",
    "# inputs: n_intervals = # of grid size increases, each increase of size 2 (in side length),\n",
    "# start = the grid size you want to start on\n",
    "# rules = the transition rules as per run_cellular_automata()\n",
    "# iterations = # times you run the game at each of the n_intervals, then you overage this win percentage and you append in a list\n",
    "# output: a list of the average win percentages at each n_intervals\n",
    "\n",
    "\n",
    "\n",
    "\n",
    "\n",
    "def experiment2(start,n_intervals,rules, iterations=10):\n",
    "    win_percentage=[]\n",
    "    for i in range(n_intervals):\n",
    "        print(\"currently running\", i) #code takes very long to run on some inputs, this is to indicate the step\n",
    "        A=get_matrix(start+i*2)\n",
    "        win_round=[]\n",
    "        for j in range(iterations):\n",
    "            Timeline=run_cellular_automaton(A,rules)\n",
    "            win_round.append(Timeline[1])\n",
    "        win_percentage.append(np.mean(win_round))\n",
    "    return win_percentage\n",
    "    "
   ]
  },
  {
   "cell_type": "code",
   "execution_count": 26,
   "id": "0d58b1c9",
   "metadata": {},
   "outputs": [
    {
     "name": "stdout",
     "output_type": "stream",
     "text": [
      "currently running 0\n",
      "currently running 1\n",
      "currently running 2\n",
      "currently running 3\n",
      "currently running 4\n",
      "currently running 5\n",
      "currently running 6\n",
      "currently running 7\n",
      "currently running 8\n",
      "currently running 9\n"
     ]
    },
    {
     "data": {
      "text/plain": [
       "<function matplotlib.pyplot.show(close=None, block=None)>"
      ]
     },
     "execution_count": 26,
     "metadata": {},
     "output_type": "execute_result"
    },
    {
     "data": {
      "image/png": "[encoded data removed]",
      "text/plain": [
       "<Figure size 432x288 with 1 Axes>"
      ]
     },
     "metadata": {
      "needs_background": "light"
     },
     "output_type": "display_data"
    }
   ],
   "source": [
    "# example, run the following code:\n",
    "\n",
    "rules=[[[0.5,1],[0.5,4]],[[0.5,2],[0.5,3]],[[1,2]],[[1,3]],[[0.5,0]]]\n",
    "#0= susceptible, 1=infected, 2= recovered, 3= dead, 4= disconnected\n",
    "start=5\n",
    "n_intervals=10\n",
    "win_percentage=experiment2(start,n_intervals,rules, iterations=10)\n",
    "x=np.linspace(start,start+3*n_intervals,n_intervals)\n",
    "plt.plot(x,win_percentage, label=\"average win percentage\")\n",
    "plt.xlabel('Grid size')\n",
    "plt.ylabel('win percentage')\n",
    "plt.title('Experiment results: Varying size')\n",
    "plt.legend()\n",
    "plt.show"
   ]
  },
  {
   "cell_type": "code",
   "execution_count": null,
   "id": "a375bdd3",
   "metadata": {},
   "outputs": [],
   "source": []
  }
 ],
 "metadata": {
  "kernelspec": {
   "display_name": "Python 3 (ipykernel)",
   "language": "python",
   "name": "python3"
  },
  "language_info": {
   "codemirror_mode": {
    "name": "ipython",
    "version": 3
   },
   "file_extension": ".py",
   "mimetype": "text/x-python",
   "name": "python",
   "nbconvert_exporter": "python",
   "pygments_lexer": "ipython3",
   "version": "3.9.12"
  }
 },
 "nbformat": 4,
 "nbformat_minor": 5
}
