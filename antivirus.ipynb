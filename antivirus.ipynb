{
 "cells": [
  {
   "cell_type": "code",
   "execution_count": 35,
   "metadata": {},
   "outputs": [
    {
     "name": "stdout",
     "output_type": "stream",
     "text": [
      "2.5549516194593154\n"
     ]
    }
   ],
   "source": [
    "import matplotlib.pyplot as plt\n",
    "import statistics\n",
    "sample = [1,2,3,4,5,5,5,5,10]\n",
    "standard_deviation = statistics.stdev(sample)\n",
    "print(standard_deviation)"
   ]
  },
  {
   "cell_type": "code",
   "execution_count": 1,
   "metadata": {},
   "outputs": [],
   "source": [
    "l =[18, 7, 2, 14, 57, 14, 28, 22, 26, 28, 11, 35, 13, 32, 20, 2, 22, 23, 5, 17, 69, 9, 9, 21, 2, 4, 11, 2, 42, 41, 64, 26, 2, 17, 9, 39, 24, 2, 23, 28, 12, 2, 13, 23, 6, 17, 28, 6, 23, 2, 49, 4, 4, 5, 31, 11, 18, 14, 57, 11, 18, 17, 12, 5, 24, 20, 33, 16, 15, 98, 37, 40, 5, 16, 4, 39, 35, 40, 10, 4, 36, 21, 29, 6, 45, 19, 32, 4, 17, 13, 46, 13, 23, 15, 4, 7, 9, 2, 31, 9]"
   ]
  },
  {
   "cell_type": "code",
   "execution_count": 48,
   "metadata": {},
   "outputs": [
    {
     "data": {
      "text/plain": [
       "17.0"
      ]
     },
     "execution_count": 48,
     "metadata": {},
     "output_type": "execute_result"
    }
   ],
   "source": [
    "# Average\n",
    "\n",
    "sum(l)/len(l)\n",
    "statistics.median(l)"
   ]
  },
  {
   "cell_type": "code",
   "execution_count": 3,
   "metadata": {},
   "outputs": [
    {
     "data": {
      "text/plain": [
       "(array([35., 26., 16., 13.,  5.,  2.,  2.,  0.,  0.,  1.]),\n",
       " array([ 2. , 11.6, 21.2, 30.8, 40.4, 50. , 59.6, 69.2, 78.8, 88.4, 98. ]),\n",
       " <BarContainer object of 10 artists>)"
      ]
     },
     "execution_count": 3,
     "metadata": {},
     "output_type": "execute_result"
    },
    {
     "data": {
      "image/png": "[encoded data removed]",
      "text/plain": [
       "<Figure size 432x288 with 1 Axes>"
      ]
     },
     "metadata": {
      "needs_background": "light"
     },
     "output_type": "display_data"
    }
   ],
   "source": [
    "# N = 100\n",
    "\n",
    "plt.hist(l, bins=10)"
   ]
  },
  {
   "cell_type": "code",
   "execution_count": 5,
   "metadata": {},
   "outputs": [],
   "source": [
    "#N = 1000\n",
    "\n",
    "l2 = [35, 12, 20, 19, 29, 21, 2, 17, 13, 6, 33, 3, 2, 6, 9, 12, 2, 46, 15, 6, 28, 27, 2, 7, 20, 2, 5, 22, 22, 25, 19, 5, 12, 5, 3, 5, 9, 10, 56, 37, 52, 16, 35, 29, 13, 9, 13, 7, 12, 3, 27, 22, 49, 28, 6, 19, 13, 43, 10, 5, 30, 10, 15, 3, 6, 13, 100, 18, 60, 28, 100, 13, 4, 13, 9, 52, 11, 22, 9, 13, 12, 15, 30, 13, 8, 6, 12, 12, 10, 32, 13, 13, 6, 8, 3, 4, 14, 45, 7, 9]"
   ]
  },
  {
   "cell_type": "code",
   "execution_count": 47,
   "metadata": {},
   "outputs": [
    {
     "data": {
      "text/plain": [
       "13.0"
      ]
     },
     "execution_count": 47,
     "metadata": {},
     "output_type": "execute_result"
    }
   ],
   "source": [
    "statistics.median(l2)"
   ]
  },
  {
   "cell_type": "code",
   "execution_count": 6,
   "metadata": {},
   "outputs": [
    {
     "data": {
      "text/plain": [
       "(array([40., 31., 14.,  5.,  4.,  4.,  0.,  0.,  0.,  2.]),\n",
       " array([  2. ,  11.8,  21.6,  31.4,  41.2,  51. ,  60.8,  70.6,  80.4,\n",
       "         90.2, 100. ]),\n",
       " <BarContainer object of 10 artists>)"
      ]
     },
     "execution_count": 6,
     "metadata": {},
     "output_type": "execute_result"
    },
    {
     "data": {
      "image/png": "[encoded data removed]",
      "text/plain": [
       "<Figure size 432x288 with 1 Axes>"
      ]
     },
     "metadata": {
      "needs_background": "light"
     },
     "output_type": "display_data"
    }
   ],
   "source": [
    "plt.hist(l2, bins=10)"
   ]
  },
  {
   "cell_type": "code",
   "execution_count": 8,
   "metadata": {},
   "outputs": [],
   "source": [
    "l3 = [72, 11, 18, 6, 50, 22, 7, 53, 2, 13, 4, 18, 17, 29, 15, 11, 17, 69, 16, 11, 24, 31, 60, 37, 16, 22, 8, 42, 37, 13, 26, 71, 16, 44, 20, 81, 68, 9, 22, 40, 3, 30, 39, 9, 3, 7, 5, 16, 7, 34, 73, 10, 10, 82, 2, 2, 4, 34, 2, 30, 18, 17, 22, 27, 11, 16, 8, 2, 2, 25, 21, 16, 6, 48, 40, 9, 28, 28, 18, 17, 17, 41, 34, 6, 24, 2, 15, 8, 9, 22, 8, 80, 31, 3, 6, 24, 9, 40, 5, 9]"
   ]
  },
  {
   "cell_type": "code",
   "execution_count": 49,
   "metadata": {},
   "outputs": [
    {
     "data": {
      "text/plain": [
       "17.0"
      ]
     },
     "execution_count": 49,
     "metadata": {},
     "output_type": "execute_result"
    }
   ],
   "source": [
    "# N=10\n",
    "\n",
    "sum(l3)/100\n",
    "statistics.median(l3)"
   ]
  },
  {
   "cell_type": "code",
   "execution_count": 10,
   "metadata": {},
   "outputs": [
    {
     "data": {
      "text/plain": [
       "(array([31., 21., 15.,  9., 10.,  3.,  2.,  1.,  5.,  3.]),\n",
       " array([ 2., 10., 18., 26., 34., 42., 50., 58., 66., 74., 82.]),\n",
       " <BarContainer object of 10 artists>)"
      ]
     },
     "execution_count": 10,
     "metadata": {},
     "output_type": "execute_result"
    },
    {
     "data": {
      "image/png": "[encoded data removed]",
      "text/plain": [
       "<Figure size 432x288 with 1 Axes>"
      ]
     },
     "metadata": {
      "needs_background": "light"
     },
     "output_type": "display_data"
    }
   ],
   "source": [
    "plt.hist(l3, bins=10)"
   ]
  },
  {
   "cell_type": "code",
   "execution_count": 20,
   "metadata": {},
   "outputs": [],
   "source": [
    "#n=50\n",
    "\n",
    "l4 = [11, 5, 8, 3, 19, 23, 51, 33, 27, 22, 22, 54, 3, 33, 91, 5, 12, 6, 11, 38, 29, 11, 19, 2, 11, 63, 6, 100, 90, 9, 27, 10, 23, 18, 32, 3, 22, 5, 55, 13, 19, 27, 27, 24, 27, 12, 2, 14, 27, 31, 7, 12, 37, 37, 5, 14, 26, 2, 19, 13, 3, 19, 31, 34, 2, 3, 44, 5, 11, 14, 5, 3, 40, 37, 5, 13, 15, 52, 18, 13, 9, 100, 4, 5, 48, 25, 10, 10, 26, 11, 20, 3, 10, 41, 9, 13, 4, 41, 33, 5]"
   ]
  },
  {
   "cell_type": "code",
   "execution_count": 50,
   "metadata": {},
   "outputs": [
    {
     "data": {
      "text/plain": [
       "14.5"
      ]
     },
     "execution_count": 50,
     "metadata": {},
     "output_type": "execute_result"
    }
   ],
   "source": [
    "sum(l4)/100\n",
    "statistics.median(l4)"
   ]
  },
  {
   "cell_type": "code",
   "execution_count": 26,
   "metadata": {},
   "outputs": [],
   "source": [
    "l5 = [3, 13, 7, 49, 11, 8, 25, 84, 4, 20, 8, 34, 7, 2, 5, 43, 5, 2, 9, 24, 48, 34, 17, 2, 3, 4, 4, 3, 18, 28, 6, 9, 22, 13, 7, 8, 6, 8, 7, 64, 40, 9, 2, 13, 32, 26, 2, 58, 48, 2, 7, 4, 25, 28, 10, 4, 4, 9, 5, 17, 16, 8, 20, 20, 7, 73, 5, 15, 22, 3, 14, 27, 3, 5, 8, 13, 51, 4, 19, 9, 3, 12, 100, 31, 26, 3, 7, 3, 5, 22, 11, 46, 3, 13, 6, 21, 45, 40, 7, 11]"
   ]
  },
  {
   "cell_type": "code",
   "execution_count": 51,
   "metadata": {},
   "outputs": [
    {
     "data": {
      "text/plain": [
       "9.5"
      ]
     },
     "execution_count": 51,
     "metadata": {},
     "output_type": "execute_result"
    }
   ],
   "source": [
    "# N = 500\n",
    "r = sum(l5)/len(l5)\n",
    "statistics.stdev(l5)\n",
    "statistics.stdev(l5)\n",
    "statistics.stdev(l5)\n",
    "statistics.stdev(l)\n",
    "statistics.median(l5)"
   ]
  },
  {
   "cell_type": "code",
   "execution_count": 32,
   "metadata": {},
   "outputs": [],
   "source": [
    "d = {10: 23.22, 50: 22.01, 100: 20.45, 500: 17.76, 1000: 18.41}"
   ]
  },
  {
   "cell_type": "code",
   "execution_count": 34,
   "metadata": {},
   "outputs": [
    {
     "data": {
      "image/png": "[encoded data removed]",
      "text/plain": [
       "<Figure size 432x288 with 1 Axes>"
      ]
     },
     "metadata": {
      "needs_background": "light"
     },
     "output_type": "display_data"
    }
   ],
   "source": [
    "myList = d.items()\n",
    "myList = sorted(myList) \n",
    "x, y = zip(*myList) \n",
    "\n",
    "plt.plot(x, y)\n",
    "plt.xscale(\"log\")\n",
    "plt.yscale(\"log\")\n",
    "plt.show()"
   ]
  },
  {
   "cell_type": "code",
   "execution_count": 52,
   "metadata": {},
   "outputs": [],
   "source": [
    "# N = 1500\n",
    "\n",
    "l6 = [5, 6, 30, 5, 2, 3, 21, 20, 18, 3, 5, 13, 2, 38, 8, 45, 12, 6, 2, 17, 5, 21, 30, 24, 24, 19, 45, 35, 100, 12, 26, 10, 2, 8, 31, 13, 19, 31, 2, 6, 35, 46, 14, 28, 32, 99, 9, 6, 30, 44, 19, 8, 24, 16, 3, 3, 47, 15, 29, 14, 9, 4, 5, 15, 14, 13, 10, 5, 5, 39, 5, 6, 13, 19, 48, 18, 9, 11, 40, 6, 34, 13, 10, 23, 21, 10, 7, 5, 10, 2, 31, 11, 24, 14, 26, 6, 17, 4, 35, 37]"
   ]
  },
  {
   "cell_type": "code",
   "execution_count": 53,
   "metadata": {},
   "outputs": [
    {
     "data": {
      "text/plain": [
       "18.79"
      ]
     },
     "execution_count": 53,
     "metadata": {},
     "output_type": "execute_result"
    }
   ],
   "source": [
    "sum(l6)/100"
   ]
  },
  {
   "cell_type": "code",
   "execution_count": 57,
   "metadata": {},
   "outputs": [
    {
     "data": {
      "text/plain": [
       "17.145423749664385"
      ]
     },
     "execution_count": 57,
     "metadata": {},
     "output_type": "execute_result"
    }
   ],
   "source": [
    "statistics.stdev(l6)"
   ]
  }
 ],
 "metadata": {
  "kernelspec": {
   "display_name": "Python 3.8.10 64-bit",
   "language": "python",
   "name": "python3"
  },
  "language_info": {
   "codemirror_mode": {
    "name": "ipython",
    "version": 3
   },
   "file_extension": ".py",
   "mimetype": "text/x-python",
   "name": "python",
   "nbconvert_exporter": "python",
   "pygments_lexer": "ipython3",
   "version": "3.8.10"
  },
  "orig_nbformat": 4,
  "vscode": {
   "interpreter": {
    "hash": "916dbcbb3f70747c44a77c7bcd40155683ae19c65e1c03b4aa3499c5328201f1"
   }
  }
 },
 "nbformat": 4,
 "nbformat_minor": 2
}
